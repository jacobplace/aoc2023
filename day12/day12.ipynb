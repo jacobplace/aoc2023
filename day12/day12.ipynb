{
 "cells": [
  {
   "cell_type": "code",
   "execution_count": 42,
   "metadata": {},
   "outputs": [
    {
     "name": "stdout",
     "output_type": "stream",
     "text": [
      "8192\n",
      "10\n"
     ]
    }
   ],
   "source": [
    "from functools import cache\n",
    "import sys, re\n",
    "\n",
    "@cache\n",
    "def brute(s: str):\n",
    "    substring = \"\"\n",
    "    result = list()\n",
    "    if len(s) == 1:\n",
    "        if s[0] == \"?\":\n",
    "            return [\".\", \"#\"]\n",
    "        else:\n",
    "            return [s[0]]\n",
    "    for ch in range(len(s)):\n",
    "        if s[ch] in [\".\", \"#\"]:\n",
    "            substring += s[ch]\n",
    "        else:\n",
    "            r = brute(s[ch + 1:])\n",
    "            results = [substring + \".\" + sr for sr in r]\n",
    "            results.extend([substring + \"#\" + sr for sr in r])\n",
    "            return results\n",
    "    if not result:\n",
    "        return [substring]\n",
    "\n",
    "\n",
    "def parse(l: str) -> int:\n",
    "    s,c = l.split(' ')\n",
    "    c = [int(c) for c in c.split(',')]\n",
    "    cnt = 0\n",
    "    results = brute(s)\n",
    "    regex = \"\\.\\#+\"\n",
    "    regex = re.compile(regex)\n",
    "    for r in results:\n",
    "        s = [len(i)-1 for i in regex.findall(\".\" + r + \".\")]\n",
    "        if s == c:\n",
    "            cnt += 1\n",
    "    return cnt\n",
    "\n",
    "test = open('test').readlines()\n",
    "\n",
    "assert parse(test[0]) == 1\n",
    "assert parse(test[1]) == 4\n",
    "assert parse(test[2]) == 1\n",
    "assert parse(test[3]) == 1\n",
    "assert parse(test[4]) == 4\n",
    "assert parse(test[5]) == 10\n",
    "\n",
    "input = open('input').readlines()\n",
    "cnt = 0\n",
    "for i in input:\n",
    "    cnt += parse(i)\n",
    "print(cnt)"
   ]
  },
  {
   "cell_type": "code",
   "execution_count": 24,
   "metadata": {},
   "outputs": [
    {
     "name": "stdout",
     "output_type": "stream",
     "text": [
      "abc?abc?abc?abc?abc\n"
     ]
    }
   ],
   "source": [
    "s = \"abc\"\n",
    "print(\"?\".join([s]*5))"
   ]
  }
 ],
 "metadata": {
  "kernelspec": {
   "display_name": "Python 3",
   "language": "python",
   "name": "python3"
  },
  "language_info": {
   "codemirror_mode": {
    "name": "ipython",
    "version": 3
   },
   "file_extension": ".py",
   "mimetype": "text/x-python",
   "name": "python",
   "nbconvert_exporter": "python",
   "pygments_lexer": "ipython3",
   "version": "3.11.2"
  }
 },
 "nbformat": 4,
 "nbformat_minor": 2
}
