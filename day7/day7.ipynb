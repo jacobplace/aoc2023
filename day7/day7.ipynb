{
 "cells": [
  {
   "cell_type": "code",
   "execution_count": 55,
   "metadata": {},
   "outputs": [
    {
     "name": "stdout",
     "output_type": "stream",
     "text": [
      "{2: [<__main__.Hand object at 0x7f3da4b33f10>, <__main__.Hand object at 0x7f3d8ecf3eb0>], 4: [<__main__.Hand object at 0x7f3d8ecf2950>, <__main__.Hand object at 0x7f3d8ecf06d0>], 3: [<__main__.Hand object at 0x7f3d8ecf20e0>]}\n"
     ]
    }
   ],
   "source": [
    "from collections import Counter\n",
    "\n",
    "class Hand:\n",
    "    def __init__(self, cards, points) -> None:\n",
    "        self.cards = cards\n",
    "        self.points = points\n",
    "        self.prev_hand = None\n",
    "        self.next_hand = None\n",
    "\n",
    "def get_raw_score(hands):\n",
    "    raw_scores = dict()\n",
    "    ranks = {\n",
    "        5: 7,\n",
    "        4: 6,\n",
    "        (3, 2): 5,\n",
    "        3: 4,\n",
    "        (2, 2): 3,\n",
    "        2: 2,\n",
    "    }\n",
    "    for h in hands:\n",
    "        c = Counter(h.cards)\n",
    "        j = 0\n",
    "        if \"J\" in c:\n",
    "            j = c[\"J\"]\n",
    "            del c[\"J\"]\n",
    "        r = list(c.values())\n",
    "        r.sort()\n",
    "        if (r[-1], r[-2]) in ranks:\n",
    "            if ranks[(r[-1], r[-2])] not in raw_scores:\n",
    "                raw_scores[ranks[(r[-1], r[-2])]] = list()\n",
    "            raw_scores[ranks[(r[-1], r[-2])]].append(h)\n",
    "        elif (r[-1]) in ranks:\n",
    "            if ranks[r[-1]] not in raw_scores:\n",
    "                raw_scores[ranks[r[-1]]] = list()\n",
    "            raw_scores[ranks[r[-1]]].append(h)\n",
    "        else:\n",
    "            if 1 not in raw_scores:\n",
    "                raw_scores[1] = list()\n",
    "            raw_scores[1].append(h)\n",
    "\n",
    "    return raw_scores\n",
    "\n",
    "input = open('test').readlines()\n",
    "\n",
    "hands = list()\n",
    "for line in input:\n",
    "    cards, score = line.strip().split(' ')\n",
    "    hands.append(Hand(cards, int(score)))\n",
    "d = get_raw_score(hands)\n",
    "print(d)"
   ]
  },
  {
   "cell_type": "code",
   "execution_count": 32,
   "metadata": {},
   "outputs": [
    {
     "name": "stdout",
     "output_type": "stream",
     "text": [
      "In:684\tCurr:765\n",
      "moving next\n",
      "In:684\tCurr:684\n",
      "hand in correct spot\n",
      "In:28\tCurr:684\n",
      "moving next\n",
      "In:28\tCurr:483\n",
      "moving next\n",
      "In:28\tCurr:220\n",
      "moving next\n",
      "In:28\tCurr:28\n",
      "hand in correct spot\n",
      "In:220\tCurr:28\n",
      "moving prev\n",
      "In:220\tCurr:220\n",
      "hand in correct spot\n",
      "In:483\tCurr:220\n",
      "moving prev\n",
      "In:483\tCurr:483\n",
      "hand in correct spot\n"
     ]
    }
   ],
   "source": [
    "base_hand = hands[0]\n",
    "for h in hands[1:]:\n",
    "    while(1):\n",
    "        print(f\"In:{h.points}\\tCurr:{base_hand.points}\")\n",
    "        if h.points > base_hand.points:\n",
    "            if base_hand.prev_hand is not None:\n",
    "                if base_hand.prev_hand.points > h.points:\n",
    "                    h.prev_hand = base_hand.prev_hand\n",
    "                    h.next_hand = base_hand\n",
    "                    base_hand.prev_hand.next_hand = h\n",
    "                    base_hand.prev_hand = h\n",
    "                else:\n",
    "                    print(\"moving prev\")\n",
    "                    base_hand = base_hand.prev_hand\n",
    "            else:\n",
    "                base_hand.prev_hand = h\n",
    "                h.next_hand = base_hand\n",
    "        elif h.points < base_hand.points:\n",
    "            if base_hand.next_hand is not None:\n",
    "                if base_hand.next_hand.points < h.points:\n",
    "                    h.next_hand = base_hand.next_hand\n",
    "                    h.prev_hand = base_hand\n",
    "                    base_hand.next_hand.prev_hand = h\n",
    "                    base_hand.next_hand = h\n",
    "                else:\n",
    "                    print('moving next')\n",
    "                    base_hand = base_hand.next_hand\n",
    "            else:\n",
    "                base_hand.next_hand = h\n",
    "                h.prev_hand = base_hand\n",
    "        else:\n",
    "            print(\"hand in correct spot\")\n",
    "            break\n"
   ]
  },
  {
   "cell_type": "code",
   "execution_count": 44,
   "metadata": {},
   "outputs": [
    {
     "data": {
      "text/plain": [
       "{1: [<__main__.Hand at 0x7f3d8e7a3880>,\n",
       "  <__main__.Hand at 0x7f3d8e7a3910>,\n",
       "  <__main__.Hand at 0x7f3d8e7a38e0>,\n",
       "  <__main__.Hand at 0x7f3d8e7a39a0>,\n",
       "  <__main__.Hand at 0x7f3d8e7a3a00>]}"
      ]
     },
     "execution_count": 44,
     "metadata": {},
     "output_type": "execute_result"
    }
   ],
   "source": [
    "d"
   ]
  }
 ],
 "metadata": {
  "kernelspec": {
   "display_name": "venv",
   "language": "python",
   "name": "python3"
  },
  "language_info": {
   "codemirror_mode": {
    "name": "ipython",
    "version": 3
   },
   "file_extension": ".py",
   "mimetype": "text/x-python",
   "name": "python",
   "nbconvert_exporter": "python",
   "pygments_lexer": "ipython3",
   "version": "3.10.12"
  }
 },
 "nbformat": 4,
 "nbformat_minor": 2
}
