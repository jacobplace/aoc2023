{
 "cells": [
  {
   "cell_type": "code",
   "execution_count": null,
   "metadata": {},
   "outputs": [],
   "source": [
    "\n",
    "from itertools import combinations\n",
    "\n",
    "def parse_input():\n",
    "    input = open(\"input\").readlines()\n",
    "    x = list()\n",
    "    y = list()\n",
    "    galaxies = set()\n",
    "    for i in range(len(input)):\n",
    "        for j in range(len(input[i])):\n",
    "            if input[i][j] == \"#\":\n",
    "                galaxies.add((j, i))\n",
    "                y.append(i)\n",
    "                x.append(j)\n",
    "    mrows = set(i for i in range(max(y)) if i not in y)\n",
    "    mcols = set(i for i in range(max(x)) if i not in x)\n",
    "    return galaxies, mrows, mcols\n",
    "\n",
    "def min_distance(galaxies, empty_space, mcols, mrows):\n",
    "    distance = 0\n",
    "    for (x1, y1), (x2, y2) in combinations(galaxies, 2):\n",
    "        distance += abs(x2 - x1) + abs(y2 - y1)\n",
    "        distance += (empty_space - 1) * sum(min(x1, x2) < ec < max(x1, x2) for ec in mcols)\n",
    "        distance += (empty_space - 1) * sum(min(y1, y2) < er < max(y1, y2) for er in mrows)\n",
    "    return distance\n",
    "\n",
    "if __name__ == \"__main__\":\n",
    "    galaxies, mrows, mcols = parse_input()\n",
    "    print(min_distance(galaxies, 2, mcols, mrows))\n",
    "    print(min_distance(galaxies, 1000000, mcols, mrows))\n"
   ]
  }
 ],
 "metadata": {
  "kernelspec": {
   "display_name": "Python 3",
   "language": "python",
   "name": "python3"
  },
  "language_info": {
   "codemirror_mode": {
    "name": "ipython",
    "version": 3
   },
   "file_extension": ".py",
   "mimetype": "text/x-python",
   "name": "python",
   "nbconvert_exporter": "python",
   "pygments_lexer": "ipython3",
   "version": "3.11.2"
  }
 },
 "nbformat": 4,
 "nbformat_minor": 2
}
